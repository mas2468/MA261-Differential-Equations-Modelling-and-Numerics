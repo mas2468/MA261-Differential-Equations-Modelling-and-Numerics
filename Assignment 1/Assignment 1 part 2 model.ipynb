{
 "cells": [
  {
   "cell_type": "markdown",
   "id": "182ec8de",
   "metadata": {},
   "source": [
    "_Remark:_ this is just an example write up for the second part of the\n",
    "first assignment. I highlighted a few observations I think needed to be\n",
    "included in some form. Your report could be shorter and still contain all\n",
    "required information and that is fine.\n",
    "\n",
    "The implementation is of course not the only option (and I will not look too much into\n",
    "the details of your code). As I pointed out in the assignment __code duplication__ is\n",
    "something one really needs to avoid. For example I implemented a function\n",
    "_experiment_ to perform the computation of the errors for the given time\n",
    "steps and the eocs so that I could use that for both Q2.1 and Q2.2.\n",
    "\n",
    "If there is some part of the code you don't understand then let me know\n",
    "I'm happy to discuss details (and take suggestions for improvements on\n",
    "board if you have any).\n",
    "\n",
    "I split the submission up into a pdf and a python script both generated\n",
    "from a notebook as I'm asking you to do for the second assignment to\n",
    "simplify the marking. Make sure that \n",
    "- the pdf includes the executed cells (i.e. tables/plots other required output).\n",
    "- test that the Python script runs on your machine before submission."
   ]
  },
  {
   "cell_type": "markdown",
   "id": "000e80eb",
   "metadata": {
    "lines_to_next_cell": 2
   },
   "source": [
    "Assignment 1 part II\n",
    "====================\n",
    "\n",
    "Aim:\n",
    "- Implementing two explicit solvers, the forward Euler and method from Q11.\n",
    "- Study the convergence order and comparing the method using a non-linear 2x2 ODE system.\n",
    "\n",
    "Initial imports including the three methods from the quizzes\n",
    "('forwardEuler', 'evolve', 'computeEocs')"
   ]
  },
  {
   "cell_type": "code",
   "execution_count": 1,
   "id": "580f8d3e",
   "metadata": {
    "execution": {
     "iopub.execute_input": "2023-02-14T08:38:43.604371Z",
     "iopub.status.busy": "2023-02-14T08:38:43.603897Z",
     "iopub.status.idle": "2023-02-14T08:38:44.419673Z",
     "shell.execute_reply": "2023-02-14T08:38:44.419136Z"
    },
    "lines_to_next_cell": 2
   },
   "outputs": [],
   "source": [
    "from IPython.display import display\n",
    "import numpy as np\n",
    "from numpy import array, exp, zeros, sqrt\n",
    "from numpy.linalg import norm\n",
    "from matplotlib import pyplot as plt\n",
    "import pandas as pd\n",
    "\n",
    "from forwardEuler import forwardEuler\n",
    "from evolve import evolve\n",
    "from computeEocs import computeEocs"
   ]
  },
  {
   "cell_type": "markdown",
   "id": "f9b44fc2",
   "metadata": {},
   "source": [
    "Problem setup for ODE\n",
    "$y'(t)=f(t,y(t))$ and $y(0)=y_0$ with right hand side\n",
    "$$ f(t,y_1,y_2) = \\left(\\begin{array}{cc} y_2 \\\\[1ex] y_2(\\lambda-2y_1) \\end{array}\\right) $$\n",
    "With $\\lambda=1$ and initial conditions $y_0=(2, -2)^T$ this has the exact solution\n",
    "$$ Y(t) = \\left(\\begin{array}{cc}\n",
    "     \\frac{2e^t}{2e^t-1} \\\\[2ex]\n",
    "     \\frac{-2e^{t}}{4e^{2t}-4e^t+1}\n",
    "\\end{array}\\right) $$\n",
    "We will solve this on the interval $[0,T]$ with $T=10$."
   ]
  },
  {
   "cell_type": "code",
   "execution_count": 2,
   "id": "01c33872",
   "metadata": {
    "execution": {
     "iopub.execute_input": "2023-02-14T08:38:44.424017Z",
     "iopub.status.busy": "2023-02-14T08:38:44.423851Z",
     "iopub.status.idle": "2023-02-14T08:38:44.427805Z",
     "shell.execute_reply": "2023-02-14T08:38:44.427384Z"
    }
   },
   "outputs": [],
   "source": [
    "T = 10\n",
    "Y = lambda t: array([2*exp(t)/(2*exp(t)-1),\n",
    "                     (-2*exp(t))/(4*exp(2*t)-4*exp(t)+1)])\n",
    "def f(t,y):\n",
    "    return array([y[1], y[1]*(1-2*y[0])])\n",
    "def Df(t,y):\n",
    "    return array([[0,1],[2*y[1],1-2*y[0]]])"
   ]
  },
  {
   "cell_type": "markdown",
   "id": "56dc6f46",
   "metadata": {},
   "source": [
    "Function to solve the problem given a 'stepper' (function for a single\n",
    "step of the solver). The 'experiment' function computes maximum errors\n",
    "up to the final time $T$ and the EOC for sequence of time steps given by\n",
    "$h_i = \\frac{T}{N_02^i}$ for $i=0,\\dots,M$ with $M=10$ using $N_0=10$.\n",
    "\n",
    "The method returns an array of length $M+1$ each entry of the form '[h,max-error,eoc]'."
   ]
  },
  {
   "cell_type": "code",
   "execution_count": 3,
   "id": "319cf43a",
   "metadata": {
    "execution": {
     "iopub.execute_input": "2023-02-14T08:38:44.432049Z",
     "iopub.status.busy": "2023-02-14T08:38:44.431902Z",
     "iopub.status.idle": "2023-02-14T08:38:44.436541Z",
     "shell.execute_reply": "2023-02-14T08:38:44.436036Z"
    }
   },
   "outputs": [],
   "source": [
    "def experiment(stepper):\n",
    "    M    = 10\n",
    "    N0   = 25\n",
    "    herr = zeros( [M,2] )\n",
    "    for m in range(M):\n",
    "        N = N0*2**m\n",
    "        t,y = evolve( stepper, f,Df, 0,Y(0),T, N)\n",
    "        herr[m] = [T/N, 0]\n",
    "        for tn,yn in zip(t,y):\n",
    "            herr[m][1] = max(herr[m][1], norm(yn-Y(tn)) )\n",
    "\n",
    "    eoc = computeEocs( herr )\n",
    "    eoc = np.hstack( [ [np.nan],eoc ] )\n",
    "    res = np.hstack( [herr, np.atleast_2d(eoc).T] )\n",
    "\n",
    "    return res"
   ]
  },
  {
   "cell_type": "markdown",
   "id": "63e0e01d",
   "metadata": {},
   "source": [
    "Simulations\n",
    "-----------\n",
    "\n",
    "Perform the simulation using the forwardEuler stepper"
   ]
  },
  {
   "cell_type": "code",
   "execution_count": 4,
   "id": "76dc02de",
   "metadata": {
    "execution": {
     "iopub.execute_input": "2023-02-14T08:38:44.440759Z",
     "iopub.status.busy": "2023-02-14T08:38:44.440581Z",
     "iopub.status.idle": "2023-02-14T08:38:44.875676Z",
     "shell.execute_reply": "2023-02-14T08:38:44.874860Z"
    }
   },
   "outputs": [],
   "source": [
    "resFE = experiment(forwardEuler)"
   ]
  },
  {
   "cell_type": "markdown",
   "id": "0b1e90ce",
   "metadata": {},
   "source": [
    "Perform the simulation using the method from Q1.1"
   ]
  },
  {
   "cell_type": "code",
   "execution_count": 5,
   "id": "5f33e715",
   "metadata": {
    "execution": {
     "iopub.execute_input": "2023-02-14T08:38:44.878294Z",
     "iopub.status.busy": "2023-02-14T08:38:44.878071Z",
     "iopub.status.idle": "2023-02-14T08:38:45.423759Z",
     "shell.execute_reply": "2023-02-14T08:38:45.422682Z"
    }
   },
   "outputs": [],
   "source": [
    "def Q11( f,Df, t0,y0, h):\n",
    "    f0 = f(t0,y0)\n",
    "    f1 = f(t0+h, y0+h*f0)\n",
    "    return y0 + h/2*(f0+f1)\n",
    "resQ11 = experiment(Q11)"
   ]
  },
  {
   "cell_type": "markdown",
   "id": "c737f839",
   "metadata": {},
   "source": [
    "Results:\n",
    "--------\n",
    "\n",
    "Generate a table (using pandas) containing the computed results"
   ]
  },
  {
   "cell_type": "code",
   "execution_count": 6,
   "id": "99ab86a4",
   "metadata": {
    "execution": {
     "iopub.execute_input": "2023-02-14T08:38:45.429058Z",
     "iopub.status.busy": "2023-02-14T08:38:45.428871Z",
     "iopub.status.idle": "2023-02-14T08:38:47.193658Z",
     "shell.execute_reply": "2023-02-14T08:38:47.192918Z"
    },
    "lines_to_next_cell": 1
   },
   "outputs": [
    {
     "data": {
      "text/html": [
       "<style type=\"text/css\">\n",
       "</style>\n",
       "<table id=\"T_dcf84\">\n",
       "  <thead>\n",
       "    <tr>\n",
       "      <th class=\"blank level0\" >&nbsp;</th>\n",
       "      <th id=\"T_dcf84_level0_col0\" class=\"col_heading level0 col0\" >h</th>\n",
       "      <th id=\"T_dcf84_level0_col1\" class=\"col_heading level0 col1\" >FE-error</th>\n",
       "      <th id=\"T_dcf84_level0_col2\" class=\"col_heading level0 col2\" >FE-eoc</th>\n",
       "      <th id=\"T_dcf84_level0_col3\" class=\"col_heading level0 col3\" >Q11-error</th>\n",
       "      <th id=\"T_dcf84_level0_col4\" class=\"col_heading level0 col4\" >Q11-eoc</th>\n",
       "    </tr>\n",
       "  </thead>\n",
       "  <tbody>\n",
       "    <tr>\n",
       "      <th id=\"T_dcf84_level0_row0\" class=\"row_heading level0 row0\" >0</th>\n",
       "      <td id=\"T_dcf84_row0_col0\" class=\"data row0 col0\" >4.0000e-01</td>\n",
       "      <td id=\"T_dcf84_row0_col1\" class=\"data row0 col1\" >1.197520e+00</td>\n",
       "      <td id=\"T_dcf84_row0_col2\" class=\"data row0 col2\" >nan</td>\n",
       "      <td id=\"T_dcf84_row0_col3\" class=\"data row0 col3\" >2.336009e-01</td>\n",
       "      <td id=\"T_dcf84_row0_col4\" class=\"data row0 col4\" >nan</td>\n",
       "    </tr>\n",
       "    <tr>\n",
       "      <th id=\"T_dcf84_level0_row1\" class=\"row_heading level0 row1\" >1</th>\n",
       "      <td id=\"T_dcf84_row1_col0\" class=\"data row1 col0\" >2.0000e-01</td>\n",
       "      <td id=\"T_dcf84_row1_col1\" class=\"data row1 col1\" >3.849013e-01</td>\n",
       "      <td id=\"T_dcf84_row1_col2\" class=\"data row1 col2\" >1.637</td>\n",
       "      <td id=\"T_dcf84_row1_col3\" class=\"data row1 col3\" >5.724377e-02</td>\n",
       "      <td id=\"T_dcf84_row1_col4\" class=\"data row1 col4\" >2.029</td>\n",
       "    </tr>\n",
       "    <tr>\n",
       "      <th id=\"T_dcf84_level0_row2\" class=\"row_heading level0 row2\" >2</th>\n",
       "      <td id=\"T_dcf84_row2_col0\" class=\"data row2 col0\" >1.0000e-01</td>\n",
       "      <td id=\"T_dcf84_row2_col1\" class=\"data row2 col1\" >1.424462e-01</td>\n",
       "      <td id=\"T_dcf84_row2_col2\" class=\"data row2 col2\" >1.434</td>\n",
       "      <td id=\"T_dcf84_row2_col3\" class=\"data row2 col3\" >1.252991e-02</td>\n",
       "      <td id=\"T_dcf84_row2_col4\" class=\"data row2 col4\" >2.192</td>\n",
       "    </tr>\n",
       "    <tr>\n",
       "      <th id=\"T_dcf84_level0_row3\" class=\"row_heading level0 row3\" >3</th>\n",
       "      <td id=\"T_dcf84_row3_col0\" class=\"data row3 col0\" >5.0000e-02</td>\n",
       "      <td id=\"T_dcf84_row3_col1\" class=\"data row3 col1\" >6.525497e-02</td>\n",
       "      <td id=\"T_dcf84_row3_col2\" class=\"data row3 col2\" >1.126</td>\n",
       "      <td id=\"T_dcf84_row3_col3\" class=\"data row3 col3\" >2.894328e-03</td>\n",
       "      <td id=\"T_dcf84_row3_col4\" class=\"data row3 col4\" >2.114</td>\n",
       "    </tr>\n",
       "    <tr>\n",
       "      <th id=\"T_dcf84_level0_row4\" class=\"row_heading level0 row4\" >4</th>\n",
       "      <td id=\"T_dcf84_row4_col0\" class=\"data row4 col0\" >2.5000e-02</td>\n",
       "      <td id=\"T_dcf84_row4_col1\" class=\"data row4 col1\" >3.135656e-02</td>\n",
       "      <td id=\"T_dcf84_row4_col2\" class=\"data row4 col2\" >1.057</td>\n",
       "      <td id=\"T_dcf84_row4_col3\" class=\"data row4 col3\" >6.889803e-04</td>\n",
       "      <td id=\"T_dcf84_row4_col4\" class=\"data row4 col4\" >2.071</td>\n",
       "    </tr>\n",
       "    <tr>\n",
       "      <th id=\"T_dcf84_level0_row5\" class=\"row_heading level0 row5\" >5</th>\n",
       "      <td id=\"T_dcf84_row5_col0\" class=\"data row5 col0\" >1.2500e-02</td>\n",
       "      <td id=\"T_dcf84_row5_col1\" class=\"data row5 col1\" >1.538350e-02</td>\n",
       "      <td id=\"T_dcf84_row5_col2\" class=\"data row5 col2\" >1.027</td>\n",
       "      <td id=\"T_dcf84_row5_col3\" class=\"data row5 col3\" >1.680073e-04</td>\n",
       "      <td id=\"T_dcf84_row5_col4\" class=\"data row5 col4\" >2.036</td>\n",
       "    </tr>\n",
       "    <tr>\n",
       "      <th id=\"T_dcf84_level0_row6\" class=\"row_heading level0 row6\" >6</th>\n",
       "      <td id=\"T_dcf84_row6_col0\" class=\"data row6 col0\" >6.2500e-03</td>\n",
       "      <td id=\"T_dcf84_row6_col1\" class=\"data row6 col1\" >7.620535e-03</td>\n",
       "      <td id=\"T_dcf84_row6_col2\" class=\"data row6 col2\" >1.013</td>\n",
       "      <td id=\"T_dcf84_row6_col3\" class=\"data row6 col3\" >4.148271e-05</td>\n",
       "      <td id=\"T_dcf84_row6_col4\" class=\"data row6 col4\" >2.018</td>\n",
       "    </tr>\n",
       "    <tr>\n",
       "      <th id=\"T_dcf84_level0_row7\" class=\"row_heading level0 row7\" >7</th>\n",
       "      <td id=\"T_dcf84_row7_col0\" class=\"data row7 col0\" >3.1250e-03</td>\n",
       "      <td id=\"T_dcf84_row7_col1\" class=\"data row7 col1\" >3.792678e-03</td>\n",
       "      <td id=\"T_dcf84_row7_col2\" class=\"data row7 col2\" >1.007</td>\n",
       "      <td id=\"T_dcf84_row7_col3\" class=\"data row7 col3\" >1.030578e-05</td>\n",
       "      <td id=\"T_dcf84_row7_col4\" class=\"data row7 col4\" >2.009</td>\n",
       "    </tr>\n",
       "    <tr>\n",
       "      <th id=\"T_dcf84_level0_row8\" class=\"row_heading level0 row8\" >8</th>\n",
       "      <td id=\"T_dcf84_row8_col0\" class=\"data row8 col0\" >1.5625e-03</td>\n",
       "      <td id=\"T_dcf84_row8_col1\" class=\"data row8 col1\" >1.891968e-03</td>\n",
       "      <td id=\"T_dcf84_row8_col2\" class=\"data row8 col2\" >1.003</td>\n",
       "      <td id=\"T_dcf84_row8_col3\" class=\"data row8 col3\" >2.568356e-06</td>\n",
       "      <td id=\"T_dcf84_row8_col4\" class=\"data row8 col4\" >2.005</td>\n",
       "    </tr>\n",
       "    <tr>\n",
       "      <th id=\"T_dcf84_level0_row9\" class=\"row_heading level0 row9\" >9</th>\n",
       "      <td id=\"T_dcf84_row9_col0\" class=\"data row9 col0\" >7.8125e-04</td>\n",
       "      <td id=\"T_dcf84_row9_col1\" class=\"data row9 col1\" >9.448989e-04</td>\n",
       "      <td id=\"T_dcf84_row9_col2\" class=\"data row9 col2\" >1.002</td>\n",
       "      <td id=\"T_dcf84_row9_col3\" class=\"data row9 col3\" >6.410798e-07</td>\n",
       "      <td id=\"T_dcf84_row9_col4\" class=\"data row9 col4\" >2.002</td>\n",
       "    </tr>\n",
       "  </tbody>\n",
       "</table>\n"
      ],
      "text/plain": [
       "<pandas.io.formats.style.Styler at 0x7fb82947cc70>"
      ]
     },
     "metadata": {},
     "output_type": "display_data"
    },
    {
     "data": {
      "image/png": "[encoded data removed]",
      "text/plain": [
       "<Figure size 432x288 with 1 Axes>"
      ]
     },
     "metadata": {
      "needs_background": "light"
     },
     "output_type": "display_data"
    }
   ],
   "source": [
    "def compareErrors(results):\n",
    "    # columns of table\n",
    "    simul = list(results.keys())\n",
    "    columns=['h'] + [s for n in simul for s in [f'{n}-error', f'{n}-eoc']]\n",
    "    # values in tablea\n",
    "    keys   = {columns[0]: results[simul[0]][:,0]} # all results are assumed to use the same sequence of h\n",
    "    styles = {columns[0]: '{:.4e}'}\n",
    "    for i, k in enumerate(simul):\n",
    "        keys[columns[2*i+1]]   = results[k][:,1] # errors\n",
    "        styles[columns[2*i+1]] = '{:.6e}'\n",
    "        keys[columns[2*i+2]]   = results[k][:,2] # eocs\n",
    "        styles[columns[2*i+2]] = '{:.3f}'\n",
    "\n",
    "    # generate table\n",
    "    table = pd.DataFrame(keys, index=range(results[simul[0]].shape[0]), # all results must have the same shape\n",
    "            columns=columns)\n",
    "\n",
    "    # format floating points for each column for jupyter output (does not work in pdf)\n",
    "    display( table.style.format(styles) )\n",
    "\n",
    "    for i,k in enumerate(simul):\n",
    "        plt.loglog(results[k][:,0],results[k][:,1],marker='o',label=k)\n",
    "    plt.legend()\n",
    "    plt.grid(True)\n",
    "    plt.xlabel(\"step size h\")\n",
    "    plt.ylabel(\"Maximum error over time\")\n",
    "    plt.savefig(\"Q2_compareErr.pdf\", format=\"pdf\", bbox_inches=\"tight\") # output to pdf for inclusing in tex document\n",
    "    plt.show()\n",
    "\n",
    "\n",
    "compareErrors({\"FE\":resFE,\"Q11\":resQ11})"
   ]
  },
  {
   "cell_type": "markdown",
   "id": "c7370df9",
   "metadata": {
    "jp-MarkdownHeadingCollapsed": true,
    "tags": []
   },
   "source": [
    "Summary Q2.1\n",
    "------------\n",
    "\n",
    "Consider the above Table which shows the error and eoc for the forward\n",
    "Euler method in the second and third column for different time steps\n",
    "given in the first column.\n",
    "\n",
    "The experimental order of convergence shown in the third column clearly indicates that the\n",
    "method is __converging with order $1$__.\n",
    "This is in accordance with the __result proven in the lecture__, where we showed linear\n",
    "convergence for the forward Euler method. The results proven there were\n",
    "$$ \\max_{n}|y_n-Y(t_n)| = O(h) $$"
   ]
  },
  {
   "cell_type": "markdown",
   "id": "bd00c492",
   "metadata": {},
   "source": [
    "Summary Q2.2\n",
    "------------\n",
    "\n",
    "In the last two columns of the above Table simulation results are\n",
    "summarized for the method given in Question 1.1.\n",
    "The last column showing the experimental order of convergence indicates\n",
    "that the method is converging __quadratically__. This matches the rate\n",
    "stated in the question.\n",
    "\n",
    "_Could add (nice but was not required): further tests I made with linear right hand side and with\n",
    "$f(t)=\\cos(t)$ confirm the quadratic convergence._"
   ]
  },
  {
   "cell_type": "markdown",
   "id": "a89a90a3",
   "metadata": {
    "tags": []
   },
   "source": [
    "Summary Q2.3\n",
    "------------\n",
    "\n",
    "In this question we were to compare the two method. We have already shown\n",
    "a figure comparing the errors of both methods with respect to the step\n",
    "size.\n",
    "This figure clearly shows the _advantage of the higher convergence rate_\n",
    "of # the method from Q1.1 for a given step size. This is expected from a method\n",
    "that converges quadratically over a method with convergence order $1$. \n",
    "For all step sizes the Q1.1 method outperforms the forward Euler\n",
    "method, which indicates that the constant in the error estimate of the\n",
    "Q1.1 method is not significantly higher compared to the constant in\n",
    "the estimate for the forward Euler method.\n",
    "\n",
    "Finally, we compare the efficiency of the two methods.\n",
    "\n",
    "Each step of the Euler method __requires a single evaluation__ of the right\n",
    "hand side function $f$ in each step while the method from Q1.1\n",
    "__requires two evaluations__.\n",
    "Therefore, the computational cost of the method from Q1.1\n",
    "measured by the number of evaluations of $f$ to simulate up to a fixed time $T$\n",
    "will be __twice the cost__ of the forward Euler method.\n",
    "This measure is used on the $x$ axis in the final Figure showing\n",
    "the error for a given computational cost."
   ]
  },
  {
   "cell_type": "code",
   "execution_count": 7,
   "id": "e113ace0",
   "metadata": {
    "execution": {
     "iopub.execute_input": "2023-02-14T08:38:47.198419Z",
     "iopub.status.busy": "2023-02-14T08:38:47.198257Z",
     "iopub.status.idle": "2023-02-14T08:38:48.278489Z",
     "shell.execute_reply": "2023-02-14T08:38:48.277627Z"
    }
   },
   "outputs": [
    {
     "data": {
      "image/png": "[encoded data removed]",
      "text/plain": [
       "<Figure size 432x288 with 1 Axes>"
      ]
     },
     "metadata": {
      "needs_background": "light"
     },
     "output_type": "display_data"
    }
   ],
   "source": [
    "def compareEff(res1,res2,name1,name2):\n",
    "    plt.loglog(T/res1[:,0],res1[:,1],'bo-',label=name1)\n",
    "    plt.loglog(2*T/res2[:,0],res2[:,1],'r^-',label=name2)\n",
    "    plt.legend()\n",
    "    plt.grid(True)\n",
    "    plt.xlabel(\"number of f evaluations\")\n",
    "    plt.ylabel(\"Error at end time\")\n",
    "    plt.savefig(\"Q2_compareEff.pdf\", format=\"pdf\", bbox_inches=\"tight\")\n",
    "    plt.show()\n",
    "compareEff(resFE,resQ11,\"FE\",\"Q11\")"
   ]
  },
  {
   "cell_type": "markdown",
   "id": "a40fac81",
   "metadata": {
    "lines_to_next_cell": 2
   },
   "source": [
    "Clearly __for this problem__ the method from Q1.1 outperforms the Forward\n",
    "Euler method even for large time steps. For example to achieve an error of\n",
    "$10^{-3}$ at the final time $T=2.5$ the method from Q1.1 requires an order\n",
    "of magnitude less evaluations of $f$ then the Forward Euler method. The\n",
    "gap greatly increases if smaller errors are required."
   ]
  },
  {
   "cell_type": "markdown",
   "id": "62626406",
   "metadata": {},
   "source": [
    "Summary Q2.4\n",
    "------------\n",
    "\n",
    "In this question we were to compare the two method but for a different\n",
    "scalar ODE. With the give exact solution\n",
    "\\begin{align*}\n",
    "Y(t) = \\begin{cases}\n",
    "   \\sin(t)                & t<\\frac{\\pi}{2}     \\\\\n",
    "   \\exp(t-\\frac{\\pi}{2}) & t\\geq\\frac{\\pi}{2}\n",
    "   \\end{cases}\n",
    "\\end{align*}\n",
    "the right hand side $f(t,y)$ needs to be\n",
    "$$ f(t,y) = \\begin{cases}\n",
    "   \\cos(t) & t<\\frac{\\pi}{2} \\\\\n",
    "   y & t\\geq\\frac{\\pi}{2}\n",
    "   \\end{cases} $$"
   ]
  },
  {
   "cell_type": "code",
   "execution_count": 8,
   "id": "bff067e6",
   "metadata": {
    "execution": {
     "iopub.execute_input": "2023-02-14T08:38:48.283671Z",
     "iopub.status.busy": "2023-02-14T08:38:48.283497Z",
     "iopub.status.idle": "2023-02-14T08:38:50.816698Z",
     "shell.execute_reply": "2023-02-14T08:38:50.815909Z"
    }
   },
   "outputs": [
    {
     "data": {
      "text/html": [
       "<style type=\"text/css\">\n",
       "</style>\n",
       "<table id=\"T_6f8d1\">\n",
       "  <thead>\n",
       "    <tr>\n",
       "      <th class=\"blank level0\" >&nbsp;</th>\n",
       "      <th id=\"T_6f8d1_level0_col0\" class=\"col_heading level0 col0\" >h</th>\n",
       "      <th id=\"T_6f8d1_level0_col1\" class=\"col_heading level0 col1\" >FE-error</th>\n",
       "      <th id=\"T_6f8d1_level0_col2\" class=\"col_heading level0 col2\" >FE-eoc</th>\n",
       "      <th id=\"T_6f8d1_level0_col3\" class=\"col_heading level0 col3\" >Q11-error</th>\n",
       "      <th id=\"T_6f8d1_level0_col4\" class=\"col_heading level0 col4\" >Q11-eoc</th>\n",
       "    </tr>\n",
       "  </thead>\n",
       "  <tbody>\n",
       "    <tr>\n",
       "      <th id=\"T_6f8d1_level0_row0\" class=\"row_heading level0 row0\" >0</th>\n",
       "      <td id=\"T_6f8d1_row0_col0\" class=\"data row0 col0\" >1.2000e-01</td>\n",
       "      <td id=\"T_6f8d1_row0_col1\" class=\"data row0 col1\" >4.902344e-01</td>\n",
       "      <td id=\"T_6f8d1_row0_col2\" class=\"data row0 col2\" >nan</td>\n",
       "      <td id=\"T_6f8d1_row0_col3\" class=\"data row0 col3\" >2.210943e-01</td>\n",
       "      <td id=\"T_6f8d1_row0_col4\" class=\"data row0 col4\" >nan</td>\n",
       "    </tr>\n",
       "    <tr>\n",
       "      <th id=\"T_6f8d1_level0_row1\" class=\"row_heading level0 row1\" >1</th>\n",
       "      <td id=\"T_6f8d1_row1_col0\" class=\"data row1 col0\" >6.0000e-02</td>\n",
       "      <td id=\"T_6f8d1_row1_col1\" class=\"data row1 col1\" >2.411621e-01</td>\n",
       "      <td id=\"T_6f8d1_row1_col2\" class=\"data row1 col2\" >1.023</td>\n",
       "      <td id=\"T_6f8d1_row1_col3\" class=\"data row1 col3\" >8.456613e-02</td>\n",
       "      <td id=\"T_6f8d1_row1_col4\" class=\"data row1 col4\" >1.387</td>\n",
       "    </tr>\n",
       "    <tr>\n",
       "      <th id=\"T_6f8d1_level0_row2\" class=\"row_heading level0 row2\" >2</th>\n",
       "      <td id=\"T_6f8d1_row2_col0\" class=\"data row2 col0\" >3.0000e-02</td>\n",
       "      <td id=\"T_6f8d1_row2_col1\" class=\"data row2 col1\" >1.031845e-01</td>\n",
       "      <td id=\"T_6f8d1_row2_col2\" class=\"data row2 col2\" >1.225</td>\n",
       "      <td id=\"T_6f8d1_row2_col3\" class=\"data row2 col3\" >1.870873e-02</td>\n",
       "      <td id=\"T_6f8d1_row2_col4\" class=\"data row2 col4\" >2.176</td>\n",
       "    </tr>\n",
       "    <tr>\n",
       "      <th id=\"T_6f8d1_level0_row3\" class=\"row_heading level0 row3\" >3</th>\n",
       "      <td id=\"T_6f8d1_row3_col0\" class=\"data row3 col0\" >1.5000e-02</td>\n",
       "      <td id=\"T_6f8d1_row3_col1\" class=\"data row3 col1\" >3.040886e-02</td>\n",
       "      <td id=\"T_6f8d1_row3_col2\" class=\"data row3 col2\" >1.763</td>\n",
       "      <td id=\"T_6f8d1_row3_col3\" class=\"data row3 col3\" >1.346657e-02</td>\n",
       "      <td id=\"T_6f8d1_row3_col4\" class=\"data row3 col4\" >0.474</td>\n",
       "    </tr>\n",
       "    <tr>\n",
       "      <th id=\"T_6f8d1_level0_row4\" class=\"row_heading level0 row4\" >4</th>\n",
       "      <td id=\"T_6f8d1_row4_col0\" class=\"data row4 col0\" >7.5000e-03</td>\n",
       "      <td id=\"T_6f8d1_row4_col1\" class=\"data row4 col1\" >2.404592e-02</td>\n",
       "      <td id=\"T_6f8d1_row4_col2\" class=\"data row4 col2\" >0.339</td>\n",
       "      <td id=\"T_6f8d1_row4_col3\" class=\"data row4 col3\" >1.968994e-03</td>\n",
       "      <td id=\"T_6f8d1_row4_col4\" class=\"data row4 col4\" >2.774</td>\n",
       "    </tr>\n",
       "    <tr>\n",
       "      <th id=\"T_6f8d1_level0_row5\" class=\"row_heading level0 row5\" >5</th>\n",
       "      <td id=\"T_6f8d1_row5_col0\" class=\"data row5 col0\" >3.7500e-03</td>\n",
       "      <td id=\"T_6f8d1_row5_col1\" class=\"data row5 col1\" >5.228799e-03</td>\n",
       "      <td id=\"T_6f8d1_row5_col2\" class=\"data row5 col2\" >2.201</td>\n",
       "      <td id=\"T_6f8d1_row5_col3\" class=\"data row5 col3\" >5.915761e-03</td>\n",
       "      <td id=\"T_6f8d1_row5_col4\" class=\"data row5 col4\" >-1.587</td>\n",
       "    </tr>\n",
       "    <tr>\n",
       "      <th id=\"T_6f8d1_level0_row6\" class=\"row_heading level0 row6\" >6</th>\n",
       "      <td id=\"T_6f8d1_row6_col0\" class=\"data row6 col0\" >1.8750e-03</td>\n",
       "      <td id=\"T_6f8d1_row6_col1\" class=\"data row6 col1\" >3.565765e-03</td>\n",
       "      <td id=\"T_6f8d1_row6_col2\" class=\"data row6 col2\" >0.552</td>\n",
       "      <td id=\"T_6f8d1_row6_col3\" class=\"data row6 col3\" >2.015447e-03</td>\n",
       "      <td id=\"T_6f8d1_row6_col4\" class=\"data row6 col4\" >1.553</td>\n",
       "    </tr>\n",
       "    <tr>\n",
       "      <th id=\"T_6f8d1_level0_row7\" class=\"row_heading level0 row7\" >7</th>\n",
       "      <td id=\"T_6f8d1_row7_col0\" class=\"data row7 col0\" >9.3750e-04</td>\n",
       "      <td id=\"T_6f8d1_row7_col1\" class=\"data row7 col1\" >2.731073e-03</td>\n",
       "      <td id=\"T_6f8d1_row7_col2\" class=\"data row7 col2\" >0.385</td>\n",
       "      <td id=\"T_6f8d1_row7_col3\" class=\"data row7 col3\" >6.177275e-05</td>\n",
       "      <td id=\"T_6f8d1_row7_col4\" class=\"data row7 col4\" >5.028</td>\n",
       "    </tr>\n",
       "    <tr>\n",
       "      <th id=\"T_6f8d1_level0_row8\" class=\"row_heading level0 row8\" >8</th>\n",
       "      <td id=\"T_6f8d1_row8_col0\" class=\"data row8 col0\" >4.6875e-04</td>\n",
       "      <td id=\"T_6f8d1_row8_col1\" class=\"data row8 col1\" >2.312930e-03</td>\n",
       "      <td id=\"T_6f8d1_row8_col2\" class=\"data row8 col2\" >0.240</td>\n",
       "      <td id=\"T_6f8d1_row8_col3\" class=\"data row8 col3\" >9.159465e-04</td>\n",
       "      <td id=\"T_6f8d1_row8_col4\" class=\"data row8 col4\" >-3.890</td>\n",
       "    </tr>\n",
       "    <tr>\n",
       "      <th id=\"T_6f8d1_level0_row9\" class=\"row_heading level0 row9\" >9</th>\n",
       "      <td id=\"T_6f8d1_row9_col0\" class=\"data row9 col0\" >2.3437e-04</td>\n",
       "      <td id=\"T_6f8d1_row9_col1\" class=\"data row9 col1\" >1.125334e-03</td>\n",
       "      <td id=\"T_6f8d1_row9_col2\" class=\"data row9 col2\" >1.039</td>\n",
       "      <td id=\"T_6f8d1_row9_col3\" class=\"data row9 col3\" >4.264240e-04</td>\n",
       "      <td id=\"T_6f8d1_row9_col4\" class=\"data row9 col4\" >1.103</td>\n",
       "    </tr>\n",
       "  </tbody>\n",
       "</table>\n"
      ],
      "text/plain": [
       "<pandas.io.formats.style.Styler at 0x7fb82946a880>"
      ]
     },
     "metadata": {},
     "output_type": "display_data"
    },
    {
     "data": {
      "image/png": "[encoded data removed]",
      "text/plain": [
       "<Figure size 432x288 with 1 Axes>"
      ]
     },
     "metadata": {
      "needs_background": "light"
     },
     "output_type": "display_data"
    },
    {
     "data": {
      "image/png": "[encoded data removed]",
      "text/plain": [
       "<Figure size 432x288 with 1 Axes>"
      ]
     },
     "metadata": {
      "needs_background": "light"
     },
     "output_type": "display_data"
    }
   ],
   "source": [
    "T = 3\n",
    "tbar = np.pi/2\n",
    "def Y(t):\n",
    "    return ( np.array( [np.sin(t)] )\n",
    "             if t<tbar else np.array( [np.exp(t-tbar)] ) )\n",
    "def f(t,y):\n",
    "    return ( np.array( [np.cos(t)] )\n",
    "             if t<tbar else np.array( [y] ) )\n",
    "def Df(t,y):\n",
    "    return ( np.array( [0] )\n",
    "             if t<tbar else np.array( [0] ) )\n",
    "resFE = experiment(forwardEuler)\n",
    "resQ11 = experiment(Q11)\n",
    "compareErrors({\"FE\":resFE,\"Q11\":resQ11})\n",
    "compareEff(resFE,resQ11,\"FE\",\"Q11\")"
   ]
  },
  {
   "cell_type": "markdown",
   "id": "b6619dff",
   "metadata": {},
   "source": [
    "In this case both method perform very similar - they both __still converge__\n",
    "Both method seem to converge with a rate of $1$ --\n",
    "we do not see the higher order of the Q11 method.\n",
    "\n",
    "Since the exact solution is __not__ $C^2$ (and definitely not $C^3$) anymore\n",
    "the __convergence theory__ for both method is __not applicable__. So we\n",
    "don not know if the method even converge or what their convergence rate\n",
    "might be in this case. It is interesting to see that apparently the\n",
    "method still converge even for a solution that is not even $C^1$\n",
    "(at least the right hand side is still Lipschitz in $y$ uniformly in $t$)."
   ]
  }
 ],
 "metadata": {
  "jupytext": {
   "cell_metadata_filter": "-all"
  },
  "kernelspec": {
   "display_name": "Python 3 (ipykernel)",
   "language": "python",
   "name": "python3"
  },
  "language_info": {
   "codemirror_mode": {
    "name": "ipython",
    "version": 3
   },
   "file_extension": ".py",
   "mimetype": "text/x-python",
   "name": "python",
   "nbconvert_exporter": "python",
   "pygments_lexer": "ipython3",
   "version": "3.9.7"
  }
 },
 "nbformat": 4,
 "nbformat_minor": 5
}
