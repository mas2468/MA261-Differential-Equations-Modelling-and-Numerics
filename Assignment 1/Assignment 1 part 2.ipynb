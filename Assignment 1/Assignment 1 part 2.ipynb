{
 "cells": [
  {
   "cell_type": "markdown",
   "id": "f931081a-4cbd-476e-8f23-4187d8a14a90",
   "metadata": {},
   "source": [
    "# MA261 Assignment 1\n",
    "\n",
    "Student ID: 2106983\n",
    "\n",
    "---"
   ]
  },
  {
   "cell_type": "markdown",
   "id": "ef72460a-6dc2-4568-beec-20d98b75881d",
   "metadata": {
    "tags": []
   },
   "source": [
    "## Q 2.0."
   ]
  },
  {
   "cell_type": "code",
   "execution_count": 1,
   "id": "15a35239-037b-4830-8167-dc42c9a6dfca",
   "metadata": {},
   "outputs": [],
   "source": [
    "import numpy as np\n",
    "def npPrint(a, f={'float_kind':lambda x: \"%.5e\" % x}): \n",
    "   print( np.array2string(a, formatter=f) )"
   ]
  },
  {
   "cell_type": "code",
   "execution_count": 2,
   "id": "1247b70f-8d45-45f9-9e8f-ac9946470ae4",
   "metadata": {},
   "outputs": [],
   "source": [
    "def forwardEuler( f,Df, t0,y0, h):\n",
    "    return y0 + h*f(t0,y0)"
   ]
  },
  {
   "cell_type": "code",
   "execution_count": 3,
   "id": "dd0a42b8-d089-42da-9a14-09c5b7b28a28",
   "metadata": {},
   "outputs": [],
   "source": [
    "def Q11(f,Df, t0,y0, h):\n",
    "    x=f(t0,y0)\n",
    "    y1=y0+(h/2)*(x+f(t0+h,y0+h*x))\n",
    "    return y1"
   ]
  },
  {
   "cell_type": "code",
   "execution_count": 4,
   "id": "434ce048-60fe-41da-9d9d-53c699bfcab3",
   "metadata": {},
   "outputs": [],
   "source": [
    "def evolve(phi, f,Df, t0,y0, T,N):\n",
    "    n=np.arange(0,N+1,1)\n",
    "    h=T/N\n",
    "    t=n*h\n",
    "    \n",
    "    y=np.zeros((N+1,len(y0)))\n",
    "    y[0]=y0\n",
    "    for i in range(N):\n",
    "        y[i+1]=phi(f,Df,t[i],y[i],h)\n",
    "        \n",
    "    return t,y"
   ]
  },
  {
   "cell_type": "code",
   "execution_count": 5,
   "id": "1e44ccff-78e2-41cc-9d78-5f9f133c1e20",
   "metadata": {},
   "outputs": [],
   "source": [
    "def computeEocs( herr ):\n",
    "    m=np.size(herr,0)\n",
    "    eocs=np.zeros(m-1)\n",
    "    h=herr[:,0]\n",
    "    e=herr[:,1]\n",
    "    for i in range(m-1):\n",
    "        eocs[i]=(np.log(e[i+1]/e[i])/np.log(h[i+1]/h[i]))\n",
    "    return eocs"
   ]
  },
  {
   "cell_type": "markdown",
   "id": "13046317-1419-429b-841f-d657e98ee201",
   "metadata": {},
   "source": [
    "# Q 2.1."
   ]
  },
  {
   "cell_type": "code",
   "execution_count": 6,
   "id": "7ac4be01-0718-4b13-8074-3f0c7f8972e1",
   "metadata": {},
   "outputs": [
    {
     "name": "stdout",
     "output_type": "stream",
     "text": [
      "[[4.00000e-01 1.19752e+00]\n",
      " [2.00000e-01 3.84901e-01]\n",
      " [1.00000e-01 1.42446e-01]\n",
      " [5.00000e-02 6.52550e-02]\n",
      " [2.50000e-02 3.13566e-02]\n",
      " [1.25000e-02 1.53835e-02]\n",
      " [6.25000e-03 7.62053e-03]\n",
      " [3.12500e-03 3.79268e-03]\n",
      " [1.56250e-03 1.89197e-03]\n",
      " [7.81250e-04 9.44899e-04]]\n",
      "\n",
      "So max errors are:\n",
      "[1.19752e+00 3.84901e-01 1.42446e-01 6.52550e-02 3.13566e-02 1.53835e-02\n",
      " 7.62053e-03 3.79268e-03 1.89197e-03 9.44899e-04]\n",
      "\n",
      "EOCs are:\n",
      "[1.63749e+00 1.43407e+00 1.12626e+00 1.05732e+00 1.02738e+00 1.01342e+00\n",
      " 1.00668e+00 1.00333e+00 1.00166e+00]\n"
     ]
    }
   ],
   "source": [
    "def f(t,y):\n",
    "    return np.array([y[1],y[1]*(1-2*y[0])])\n",
    "\n",
    "def Y(t):\n",
    "    Y=np.zeros(2)\n",
    "    Y[0]=2*np.exp(t)/(2*np.exp(t)-1)\n",
    "    Y[1]=-2*np.exp(t)/((2*np.exp(t)-1)**2)\n",
    "    return Y\n",
    "\n",
    "y0=np.array([2,-2])\n",
    "T=10\n",
    "N0=25\n",
    "maxerr=np.zeros((10,2))\n",
    "\n",
    "for i in range(10):\n",
    "    err=[]\n",
    "    N=N0*2**i\n",
    "    h=T/N\n",
    "    t,y=evolve(forwardEuler,f,0,0,y0,T,N)\n",
    "    for j in range(np.shape(y)[0]):\n",
    "        err.append(np.linalg.norm(y[j]-Y(t[j])))\n",
    "    err=np.array(err)\n",
    "    maxerr[i,:]=[h,np.max(err)]\n",
    "\n",
    "npPrint(maxerr)\n",
    "print()\n",
    "print(\"So max errors are:\")\n",
    "npPrint(maxerr[:,1])\n",
    "print()\n",
    "print(\"EOCs are:\")\n",
    "npPrint(computeEocs(maxerr))"
   ]
  },
  {
   "cell_type": "markdown",
   "id": "38f01f24-00ea-429f-8f8a-eef68793f5ff",
   "metadata": {},
   "source": [
    "# Q2.2."
   ]
  },
  {
   "cell_type": "code",
   "execution_count": 7,
   "id": "b092b9af-23c7-4f6c-8d33-520daf652a06",
   "metadata": {},
   "outputs": [
    {
     "name": "stdout",
     "output_type": "stream",
     "text": [
      "[[4.00000e-01 2.33601e-01]\n",
      " [2.00000e-01 5.72438e-02]\n",
      " [1.00000e-01 1.25299e-02]\n",
      " [5.00000e-02 2.89433e-03]\n",
      " [2.50000e-02 6.88980e-04]\n",
      " [1.25000e-02 1.68007e-04]\n",
      " [6.25000e-03 4.14827e-05]\n",
      " [3.12500e-03 1.03058e-05]\n",
      " [1.56250e-03 2.56836e-06]\n",
      " [7.81250e-04 6.41080e-07]]\n",
      "\n",
      "So max errors are:\n",
      "[2.33601e-01 5.72438e-02 1.25299e-02 2.89433e-03 6.88980e-04 1.68007e-04\n",
      " 4.14827e-05 1.03058e-05 2.56836e-06 6.41080e-07]\n",
      "\n",
      "EOCs are:\n",
      "[2.02886e+00 2.19174e+00 2.11408e+00 2.07069e+00 2.03594e+00 2.01794e+00\n",
      " 2.00906e+00 2.00454e+00 2.00227e+00]\n"
     ]
    }
   ],
   "source": [
    "def f(t,y):\n",
    "    return np.array([y[1],y[1]*(1-2*y[0])])\n",
    "\n",
    "def Y(t):\n",
    "    Y=np.zeros(2)\n",
    "    Y[0]=2*np.exp(t)/(2*np.exp(t)-1)\n",
    "    Y[1]=-2*np.exp(t)/((2*np.exp(t)-1)**2)\n",
    "    return Y\n",
    "\n",
    "y0=np.array([2,-2])\n",
    "T=10\n",
    "N0=25\n",
    "maxerr=np.zeros((10,2))\n",
    "\n",
    "for i in range(10):\n",
    "    err=[]\n",
    "    N=N0*2**i\n",
    "    h=T/N\n",
    "    t,y=evolve(Q11,f,0,0,y0,T,N)\n",
    "    for j in range(np.shape(y)[0]):\n",
    "        err.append(np.linalg.norm(y[j]-Y(t[j])))\n",
    "    err=np.array(err)\n",
    "    maxerr[i,:]=[h,np.max(err)]\n",
    "        \n",
    "npPrint(maxerr)\n",
    "print()\n",
    "print(\"So max errors are:\")\n",
    "npPrint(maxerr[:,1])\n",
    "print()\n",
    "print(\"EOCs are:\")\n",
    "npPrint(computeEocs(maxerr))"
   ]
  },
  {
   "cell_type": "markdown",
   "id": "b9b658a6-de3a-4ba1-b0b3-c66df61087f3",
   "metadata": {},
   "source": [
    "# Q2.3.\n",
    "\n",
    "Every time evolve is called in Q2.1. f is evaluated $N$ times and evolve is called 10 times so f is evaluated $10N$ times. Similarly evolve is called 10 times in Q2.2. however each time it is called f is evaluated $2N$ so f is evaluated a total of $20N$ times. However, it can be seen as the EOCs converge to 2 in Q2.2. that the error converges quadratically whereas error convergence in Q2.1. is linear as the EOCs converge to 1."
   ]
  },
  {
   "cell_type": "markdown",
   "id": "eb80f713-1c6e-4df4-ba28-8f5d7e7cdf22",
   "metadata": {},
   "source": [
    "# Q2.4."
   ]
  },
  {
   "cell_type": "code",
   "execution_count": 8,
   "id": "837bfdb6-210e-4b25-980b-5896000157a5",
   "metadata": {},
   "outputs": [
    {
     "name": "stdout",
     "output_type": "stream",
     "text": [
      "[[1.20000e-01 4.90234e-01]\n",
      " [6.00000e-02 2.41162e-01]\n",
      " [3.00000e-02 1.03184e-01]\n",
      " [1.50000e-02 3.04089e-02]\n",
      " [7.50000e-03 2.40459e-02]\n",
      " [3.75000e-03 5.22880e-03]\n",
      " [1.87500e-03 3.56577e-03]\n",
      " [9.37500e-04 2.73107e-03]\n",
      " [4.68750e-04 2.31293e-03]\n",
      " [2.34375e-04 1.12533e-03]]\n",
      "\n",
      "So max errors using Q 2.1. method are:\n",
      "[4.90234e-01 2.41162e-01 1.03184e-01 3.04089e-02 2.40459e-02 5.22880e-03\n",
      " 3.56577e-03 2.73107e-03 2.31293e-03 1.12533e-03]\n",
      "\n",
      "EOCs using Q 2.1. are:\n",
      "[1.02347e+00 1.22478e+00 1.76266e+00 3.38699e-01 2.20124e+00 5.52268e-01\n",
      " 3.84744e-01 2.39746e-01 1.03937e+00]\n",
      "\n",
      "[[1.20000e-01 2.21094e-01]\n",
      " [6.00000e-02 8.45661e-02]\n",
      " [3.00000e-02 1.87087e-02]\n",
      " [1.50000e-02 1.34666e-02]\n",
      " [7.50000e-03 1.96899e-03]\n",
      " [3.75000e-03 5.91576e-03]\n",
      " [1.87500e-03 2.01545e-03]\n",
      " [9.37500e-04 6.17727e-05]\n",
      " [4.68750e-04 9.15947e-04]\n",
      " [2.34375e-04 4.26424e-04]]\n",
      "\n",
      "So max errors using Q2.2. method are:\n",
      "[2.21094e-01 8.45661e-02 1.87087e-02 1.34666e-02 1.96899e-03 5.91576e-03\n",
      " 2.01545e-03 6.17727e-05 9.15947e-04 4.26424e-04]\n",
      "\n",
      "EOCs using Q2.2 method are:\n",
      "[1.38651e+00 2.17637e+00 4.74330e-01 2.77385e+00 -1.58711e+00 1.55346e+00\n",
      " 5.02799e+00 -3.89022e+00 1.10297e+00]\n"
     ]
    }
   ],
   "source": [
    "def f(t,y):\n",
    "     if (t<np.pi/2):\n",
    "        return np.cos(t)\n",
    "\n",
    "     return y\n",
    "\n",
    "def Y(t):\n",
    "    if (t<np.pi/2):\n",
    "        Y=np.sin(t)\n",
    "    \n",
    "    else: \n",
    "        Y=np.exp(t-(np.pi/2))\n",
    "    \n",
    "    return Y\n",
    "\n",
    "y0=np.array([0])\n",
    "T=3\n",
    "N0=25\n",
    "maxerr=np.zeros((10,2))\n",
    "\n",
    "for i in range(10):\n",
    "    err=[]\n",
    "    N=N0*2**i\n",
    "    h=T/N\n",
    "    t,y=evolve(forwardEuler,f,0,0,y0,T,N)\n",
    "    for j in range(np.shape(y)[0]):\n",
    "        err.append(np.abs(y[j]-Y(t[j])))\n",
    "    err=np.array(err)\n",
    "    maxerr[i,:]=[h,np.max(err)]\n",
    "        \n",
    "npPrint(maxerr)\n",
    "print()\n",
    "print(\"So max errors using Q 2.1. method are:\")\n",
    "npPrint(maxerr[:,1])\n",
    "print()\n",
    "print(\"EOCs using Q 2.1. are:\")\n",
    "npPrint(computeEocs(maxerr))\n",
    "print()\n",
    "\n",
    "for i in range(10):\n",
    "    err=[]\n",
    "    N=N0*2**i\n",
    "    h=T/N\n",
    "    t,y=evolve(Q11,f,0,0,y0,T,N)\n",
    "    for j in range(np.shape(y)[0]):\n",
    "        err.append(np.abs(y[j]-Y(t[j])))\n",
    "    err=np.array(err)\n",
    "    maxerr[i,:]=[h,np.max(err)]\n",
    "        \n",
    "npPrint(maxerr)\n",
    "print()\n",
    "print(\"So max errors using Q2.2. method are:\")\n",
    "npPrint(maxerr[:,1])\n",
    "print()\n",
    "print(\"EOCs using Q2.2 method are:\")\n",
    "npPrint(computeEocs(maxerr))"
   ]
  },
  {
   "cell_type": "markdown",
   "id": "74b63bd0-c36e-4032-9394-0ae01565d41b",
   "metadata": {},
   "source": [
    "The erros for method Q 2.1. behave in no obvious order of h (linearly or quadratically etc) which contradicts what we know about the forward euler method that the errors converge linearly. This is further demonstrated by the EOCs as we would expect them to converge to 1 (the convergence rate) but there is clearly no convergence/ obvious patttern to the values.\n",
    "\n",
    "Similarly, the errors for method Q2.2. do not show the quadratic order of convergence we showed in Q1.2. - there are decreases in h that lead to decreases in the error and some decreases in h that lead to increases in the error even. This is again further demonstrated by the EOCs as they do not clearly converge to any value.\n",
    "\n",
    "This can be explained by the fact that the exact solution ${Y(t)}$ is in $C^1$ so it's second and third (and so on but not necessary for this) derivatives are not \"smooth\". We have seen that to use the forward euler method we need $Y'(t)$ to be \"smooth\" and for the Q2.2. method we need $Y''(t)$ to be smooth and as they are not this leads to our supposedly contradictory observations."
   ]
  }
 ],
 "metadata": {
  "kernelspec": {
   "display_name": "Python 3 (ipykernel)",
   "language": "python",
   "name": "python3"
  },
  "language_info": {
   "codemirror_mode": {
    "name": "ipython",
    "version": 3
   },
   "file_extension": ".py",
   "mimetype": "text/x-python",
   "name": "python",
   "nbconvert_exporter": "python",
   "pygments_lexer": "ipython3",
   "version": "3.9.7"
  }
 },
 "nbformat": 4,
 "nbformat_minor": 5
}
